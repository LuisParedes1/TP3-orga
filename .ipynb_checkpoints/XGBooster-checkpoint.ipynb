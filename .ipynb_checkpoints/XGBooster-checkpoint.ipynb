{
 "cells": [
  {
   "cell_type": "code",
   "execution_count": 1,
   "metadata": {
    "executionInfo": {
     "elapsed": 1754,
     "status": "ok",
     "timestamp": 1638037063179,
     "user": {
      "displayName": "Luis Paredes",
      "photoUrl": "https://lh3.googleusercontent.com/a-/AOh14GiiqTXyn65SJr6pfMEi4hSmRrHnjWu8sOwgJS-j=s64",
      "userId": "17043303273740411164"
     },
     "user_tz": 180
    },
    "id": "ce8c99a2"
   },
   "outputs": [],
   "source": [
    "import xgboost as xgb\n",
    "from sklearn.ensemble import RandomForestRegressor\n",
    "from sklearn.metrics import mean_squared_error\n",
    "import pandas as pd\n",
    "import numpy as np\n",
    "%matplotlib inline\n",
    "import matplotlib.pyplot as plt\n",
    "from sklearn import tree\n",
    "\n",
    "from sklearn.linear_model import LogisticRegression\n",
    "from sklearn.model_selection import train_test_split\n",
    "from sklearn.metrics import classification_report, accuracy_score, roc_auc_score, ConfusionMatrixDisplay, confusion_matrix"
   ]
  },
  {
   "cell_type": "code",
   "execution_count": 2,
   "metadata": {
    "executionInfo": {
     "elapsed": 27982,
     "status": "ok",
     "timestamp": 1638037091158,
     "user": {
      "displayName": "Luis Paredes",
      "photoUrl": "https://lh3.googleusercontent.com/a-/AOh14GiiqTXyn65SJr6pfMEi4hSmRrHnjWu8sOwgJS-j=s64",
      "userId": "17043303273740411164"
     },
     "user_tz": 180
    },
    "id": "fPv4PKkbYGXC"
   },
   "outputs": [
    {
     "data": {
      "text/plain": [
       "\"\\n# Cargo de Google Drive los archivos\\n\\nfrom pydrive.auth import GoogleAuth\\nfrom pydrive.drive import GoogleDrive\\nfrom google.colab import auth\\nfrom oauth2client.client import GoogleCredentials\\n\\n\\nauth.authenticate_user()\\ngauth = GoogleAuth()\\ngauth.credentials = GoogleCredentials.get_application_default()\\ndrive = GoogleDrive(gauth)\\n\\nid_train_transaction='19setxTbNvfO5L5h-9h5-bcFcl7Ml1kHt'\\ndownloaded = drive.CreateFile({'id': id_train_transaction})\\ndownloaded.GetContentFile('train_transaction.csv')\\n\\nid_train_identity = '1XUUs36t6K2ByA7xuQuTzRH_smXVtmVjF'\\ndownloaded = drive.CreateFile({'id': id_train_identity})\\ndownloaded.GetContentFile('train_identity.csv')\\n\\nid_test_transaction='1LnLkTi7YYu95qlR6r7fDGbQUJrNR2uYE'\\ndownloaded = drive.CreateFile({'id': id_test_transaction})\\ndownloaded.GetContentFile('test_transaction.csv')\\n\\nid_test_identity = '1Pro4HlgAnTo2UmGhS7NReITPAJxxPolA'\\ndownloaded = drive.CreateFile({'id': id_test_identity})\\ndownloaded.GetContentFile('test_identity.csv')\""
      ]
     },
     "execution_count": 2,
     "metadata": {},
     "output_type": "execute_result"
    }
   ],
   "source": [
    "'''\n",
    "# Cargo de Google Drive los archivos\n",
    "\n",
    "from pydrive.auth import GoogleAuth\n",
    "from pydrive.drive import GoogleDrive\n",
    "from google.colab import auth\n",
    "from oauth2client.client import GoogleCredentials\n",
    "\n",
    "\n",
    "auth.authenticate_user()\n",
    "gauth = GoogleAuth()\n",
    "gauth.credentials = GoogleCredentials.get_application_default()\n",
    "drive = GoogleDrive(gauth)\n",
    "\n",
    "id_train_transaction='19setxTbNvfO5L5h-9h5-bcFcl7Ml1kHt'\n",
    "downloaded = drive.CreateFile({'id': id_train_transaction})\n",
    "downloaded.GetContentFile('train_transaction.csv')\n",
    "\n",
    "id_train_identity = '1XUUs36t6K2ByA7xuQuTzRH_smXVtmVjF'\n",
    "downloaded = drive.CreateFile({'id': id_train_identity})\n",
    "downloaded.GetContentFile('train_identity.csv')\n",
    "\n",
    "id_test_transaction='1LnLkTi7YYu95qlR6r7fDGbQUJrNR2uYE'\n",
    "downloaded = drive.CreateFile({'id': id_test_transaction})\n",
    "downloaded.GetContentFile('test_transaction.csv')\n",
    "\n",
    "id_test_identity = '1Pro4HlgAnTo2UmGhS7NReITPAJxxPolA'\n",
    "downloaded = drive.CreateFile({'id': id_test_identity})\n",
    "downloaded.GetContentFile('test_identity.csv')'''"
   ]
  },
  {
   "cell_type": "code",
   "execution_count": null,
   "metadata": {
    "executionInfo": {
     "elapsed": 21595,
     "status": "ok",
     "timestamp": 1638037112746,
     "user": {
      "displayName": "Luis Paredes",
      "photoUrl": "https://lh3.googleusercontent.com/a-/AOh14GiiqTXyn65SJr6pfMEi4hSmRrHnjWu8sOwgJS-j=s64",
      "userId": "17043303273740411164"
     },
     "user_tz": 180
    },
    "id": "e1ecd9a0"
   },
   "outputs": [],
   "source": [
    "train_identity = pd.read_csv('./ieee-fraud-detection/train_identity.csv')\n",
    "\n",
    "train_transaction = pd.read_csv('./ieee-fraud-detection/train_transaction.csv')"
   ]
  },
  {
   "cell_type": "markdown",
   "metadata": {
    "id": "7StWs4iqmuV8"
   },
   "source": [
    "# Analizo los datasets\n",
    "\n",
    "Creo los datasets encodeardos, limpios y escalados que voy a utilizar para entrenar y validar el modelo."
   ]
  },
  {
   "cell_type": "code",
   "execution_count": null,
   "metadata": {
    "colab": {
     "base_uri": "https://localhost:8080/",
     "height": 0
    },
    "executionInfo": {
     "elapsed": 19,
     "status": "ok",
     "timestamp": 1638037112750,
     "user": {
      "displayName": "Luis Paredes",
      "photoUrl": "https://lh3.googleusercontent.com/a-/AOh14GiiqTXyn65SJr6pfMEi4hSmRrHnjWu8sOwgJS-j=s64",
      "userId": "17043303273740411164"
     },
     "user_tz": 180
    },
    "id": "N_5pWA-tetg4",
    "outputId": "064d92b8-ba0e-4179-c48f-501f3e27d558"
   },
   "outputs": [],
   "source": [
    "train_identity"
   ]
  },
  {
   "cell_type": "code",
   "execution_count": null,
   "metadata": {
    "colab": {
     "base_uri": "https://localhost:8080/",
     "height": 0
    },
    "executionInfo": {
     "elapsed": 850,
     "status": "ok",
     "timestamp": 1638037113589,
     "user": {
      "displayName": "Luis Paredes",
      "photoUrl": "https://lh3.googleusercontent.com/a-/AOh14GiiqTXyn65SJr6pfMEi4hSmRrHnjWu8sOwgJS-j=s64",
      "userId": "17043303273740411164"
     },
     "user_tz": 180
    },
    "id": "R7b1cWLq6kCE",
    "outputId": "ba152bac-2c89-4d17-aeca-09cac428d116"
   },
   "outputs": [],
   "source": [
    "train_transaction"
   ]
  },
  {
   "cell_type": "markdown",
   "metadata": {
    "id": "4dbwZ2EElJli"
   },
   "source": [
    "> ***Observo que train_transaction tiene una columna de TransactionDT.***\n",
    "\n",
    "\n",
    "\n",
    "Esta es una columna es de tipo datetime y representa el tiempo transcurrido desde un instante de referencia (desconocido). \n",
    "\n",
    "Esto significa que debe permanecer ordenada para evitar time-travel. "
   ]
  },
  {
   "cell_type": "code",
   "execution_count": null,
   "metadata": {
    "colab": {
     "base_uri": "https://localhost:8080/"
    },
    "executionInfo": {
     "elapsed": 15,
     "status": "ok",
     "timestamp": 1638037113591,
     "user": {
      "displayName": "Luis Paredes",
      "photoUrl": "https://lh3.googleusercontent.com/a-/AOh14GiiqTXyn65SJr6pfMEi4hSmRrHnjWu8sOwgJS-j=s64",
      "userId": "17043303273740411164"
     },
     "user_tz": 180
    },
    "id": "H2zfg8AElnDG",
    "outputId": "95ce6ef3-f6bd-4358-9059-d8325124d7f8"
   },
   "outputs": [],
   "source": [
    "# Verifico que esten ordenado los registros en el tiempo\n",
    "\n",
    "list(train_transaction.TransactionDT) == sorted(train_transaction.TransactionDT, reverse=False)"
   ]
  },
  {
   "cell_type": "markdown",
   "metadata": {
    "id": "Y8TVNNs_mo2M"
   },
   "source": [
    "## Busco el dataset completo con el que voy a trabajar\n",
    "\n",
    "Uno los data sets de trainning que nos dan."
   ]
  },
  {
   "cell_type": "code",
   "execution_count": null,
   "metadata": {
    "executionInfo": {
     "elapsed": 5314,
     "status": "ok",
     "timestamp": 1638037118897,
     "user": {
      "displayName": "Luis Paredes",
      "photoUrl": "https://lh3.googleusercontent.com/a-/AOh14GiiqTXyn65SJr6pfMEi4hSmRrHnjWu8sOwgJS-j=s64",
      "userId": "17043303273740411164"
     },
     "user_tz": 180
    },
    "id": "zK2lna-elnAg"
   },
   "outputs": [],
   "source": [
    "all_data = train_transaction.merge(train_identity, on='TransactionID', how='outer')"
   ]
  },
  {
   "cell_type": "code",
   "execution_count": null,
   "metadata": {
    "colab": {
     "base_uri": "https://localhost:8080/"
    },
    "executionInfo": {
     "elapsed": 23,
     "status": "ok",
     "timestamp": 1638037118899,
     "user": {
      "displayName": "Luis Paredes",
      "photoUrl": "https://lh3.googleusercontent.com/a-/AOh14GiiqTXyn65SJr6pfMEi4hSmRrHnjWu8sOwgJS-j=s64",
      "userId": "17043303273740411164"
     },
     "user_tz": 180
    },
    "id": "iRhTOZKX5QtP",
    "outputId": "9932c9d4-d2cf-4aa8-d824-96f109af061c"
   },
   "outputs": [],
   "source": [
    "import gc\n",
    "\n",
    "# Libero memoria del sistema\n",
    "del(train_transaction)\n",
    "del(train_identity)\n",
    "\n",
    "# using the garbage collector to manually collect the garbage\n",
    "gc.collect()"
   ]
  },
  {
   "cell_type": "markdown",
   "metadata": {
    "id": "pqqD7gq2pjfT"
   },
   "source": [
    "Este truco lo saque de Kaggle para administrar la memoria."
   ]
  },
  {
   "cell_type": "code",
   "execution_count": null,
   "metadata": {
    "colab": {
     "base_uri": "https://localhost:8080/",
     "height": 0
    },
    "executionInfo": {
     "elapsed": 1689,
     "status": "ok",
     "timestamp": 1638037120577,
     "user": {
      "displayName": "Luis Paredes",
      "photoUrl": "https://lh3.googleusercontent.com/a-/AOh14GiiqTXyn65SJr6pfMEi4hSmRrHnjWu8sOwgJS-j=s64",
      "userId": "17043303273740411164"
     },
     "user_tz": 180
    },
    "id": "PGxJsBJ2chMf",
    "outputId": "9b85f1ec-4a23-4df0-aafd-d4a1983e5627"
   },
   "outputs": [],
   "source": [
    "display(all_data)"
   ]
  },
  {
   "cell_type": "markdown",
   "metadata": {
    "id": "pyCKGqB0p9ZF"
   },
   "source": [
    "Verifico que mantenga el orden segun TransactionDT"
   ]
  },
  {
   "cell_type": "code",
   "execution_count": null,
   "metadata": {
    "colab": {
     "base_uri": "https://localhost:8080/"
    },
    "executionInfo": {
     "elapsed": 22,
     "status": "ok",
     "timestamp": 1638037120578,
     "user": {
      "displayName": "Luis Paredes",
      "photoUrl": "https://lh3.googleusercontent.com/a-/AOh14GiiqTXyn65SJr6pfMEi4hSmRrHnjWu8sOwgJS-j=s64",
      "userId": "17043303273740411164"
     },
     "user_tz": 180
    },
    "id": "-n6V1ThboOX3",
    "outputId": "2c20300a-8ac0-40d8-d965-5af4b1b5ff76"
   },
   "outputs": [],
   "source": [
    "all_data.TransactionDT.hasnans"
   ]
  },
  {
   "cell_type": "code",
   "execution_count": null,
   "metadata": {
    "colab": {
     "base_uri": "https://localhost:8080/"
    },
    "executionInfo": {
     "elapsed": 17,
     "status": "ok",
     "timestamp": 1638037120579,
     "user": {
      "displayName": "Luis Paredes",
      "photoUrl": "https://lh3.googleusercontent.com/a-/AOh14GiiqTXyn65SJr6pfMEi4hSmRrHnjWu8sOwgJS-j=s64",
      "userId": "17043303273740411164"
     },
     "user_tz": 180
    },
    "id": "ZhZ0-KeSqDcD",
    "outputId": "5fe31bf5-514a-4667-c952-30354c918017"
   },
   "outputs": [],
   "source": [
    "list(all_data.TransactionDT) == sorted(all_data.TransactionDT, reverse=False)"
   ]
  },
  {
   "cell_type": "markdown",
   "metadata": {},
   "source": [
    "## Tomo 80 columnas del DataSet\n",
    "\n",
    "Segun el modelo baseline de Regresion Logistica, tomo las 80 features mas importantes"
   ]
  },
  {
   "cell_type": "code",
   "execution_count": null,
   "metadata": {},
   "outputs": [],
   "source": [
    "top80features = ['C14',\n",
    " 'C2',\n",
    " 'C11',\n",
    " 'C13',\n",
    " 'C7',\n",
    " 'C3',\n",
    " 'V192',\n",
    " 'V222',\n",
    " 'V179',\n",
    " 'DeviceType',\n",
    " 'V207',\n",
    " 'V221',\n",
    " 'C5',\n",
    " 'V73',\n",
    " 'V259',\n",
    " 'V48',\n",
    " 'M7',\n",
    " 'V227',\n",
    " 'V267',\n",
    " 'card6',\n",
    " 'V269',\n",
    " 'V189',\n",
    " 'V49',\n",
    " 'ProductCD',\n",
    " 'V147',\n",
    " 'M1',\n",
    " 'V18',\n",
    " 'V257',\n",
    " 'V200',\n",
    " 'id_15',\n",
    " 'V50',\n",
    " 'V171',\n",
    " 'V149',\n",
    " 'V139',\n",
    " 'D8',\n",
    " 'id_29',\n",
    " 'V208',\n",
    " 'V323',\n",
    " 'C8',\n",
    " 'V182',\n",
    " 'V210',\n",
    " 'D3',\n",
    " 'M6',\n",
    " 'V188',\n",
    " 'V229',\n",
    " 'V33',\n",
    " 'V71',\n",
    " 'V285',\n",
    " 'V153',\n",
    " 'V58',\n",
    " 'id_17',\n",
    " 'V44',\n",
    " 'TransactionDT',\n",
    " 'M8',\n",
    " 'V268',\n",
    " 'V29',\n",
    " 'V246',\n",
    " 'M4',\n",
    " 'V13',\n",
    " 'V255',\n",
    " 'V174',\n",
    " 'V195',\n",
    " 'M3',\n",
    " 'V82',\n",
    " 'V21',\n",
    " 'V185',\n",
    " 'V203',\n",
    " 'V83',\n",
    " 'V184',\n",
    " 'V176',\n",
    " 'id_36',\n",
    " 'V294',\n",
    " 'V168',\n",
    " 'V332',\n",
    " 'V175',\n",
    " 'V333',\n",
    " 'V225',\n",
    " 'id_35',\n",
    " 'V292',\n",
    " 'V326']"
   ]
  },
  {
   "cell_type": "code",
   "execution_count": null,
   "metadata": {},
   "outputs": [],
   "source": [
    "features_adicionales = ['id_31', 'id_33', 'DeviceType', 'DeviceInfo', 'isFraud', 'TransactionDT' ]\n",
    "\n",
    "for feat in features_adicionales:\n",
    "    if (not feat in top80features):\n",
    "        top80features.append(feat)"
   ]
  },
  {
   "cell_type": "code",
   "execution_count": null,
   "metadata": {},
   "outputs": [],
   "source": [
    "all_data = all_data[top80features]\n",
    "\n",
    "display(all_data)"
   ]
  },
  {
   "cell_type": "markdown",
   "metadata": {
    "id": "LPRO9LE6qFS0"
   },
   "source": [
    "## Extraigo los target y features del dataset y creo los sets de trainning y testing.\n",
    "\n",
    "Creo `data_train` y `data_test` para el set de `data` y\n",
    "\n",
    "`label_train`, `label_test` para el set de `target`.\n",
    "\n",
    "> Nota: El target es `isFraud`"
   ]
  },
  {
   "cell_type": "markdown",
   "metadata": {
    "id": "3QRx2-0or8I9"
   },
   "source": [
    "### Particiono la data como train_set y test_set\n",
    "\n",
    "Tomo un 20% de la data como `test_set` y el restante para `train_set` del modelo.\n",
    "\n",
    "Me baso en TransactionDT como separador de registros."
   ]
  },
  {
   "cell_type": "code",
   "execution_count": null,
   "metadata": {
    "executionInfo": {
     "elapsed": 14,
     "status": "ok",
     "timestamp": 1638037120580,
     "user": {
      "displayName": "Luis Paredes",
      "photoUrl": "https://lh3.googleusercontent.com/a-/AOh14GiiqTXyn65SJr6pfMEi4hSmRrHnjWu8sOwgJS-j=s64",
      "userId": "17043303273740411164"
     },
     "user_tz": 180
    },
    "id": "m2dZ7cGLqEyz"
   },
   "outputs": [],
   "source": [
    "labels = all_data.isFraud"
   ]
  },
  {
   "cell_type": "code",
   "execution_count": null,
   "metadata": {
    "executionInfo": {
     "elapsed": 13,
     "status": "ok",
     "timestamp": 1638037120581,
     "user": {
      "displayName": "Luis Paredes",
      "photoUrl": "https://lh3.googleusercontent.com/a-/AOh14GiiqTXyn65SJr6pfMEi4hSmRrHnjWu8sOwgJS-j=s64",
      "userId": "17043303273740411164"
     },
     "user_tz": 180
    },
    "id": "Mn7YB58ZvCgQ"
   },
   "outputs": [],
   "source": [
    "# Tomo el 80% \n",
    "ochenta_porciento = int(all_data['TransactionDT'].size * 0.8)"
   ]
  },
  {
   "cell_type": "code",
   "execution_count": null,
   "metadata": {
    "executionInfo": {
     "elapsed": 12,
     "status": "ok",
     "timestamp": 1638037120582,
     "user": {
      "displayName": "Luis Paredes",
      "photoUrl": "https://lh3.googleusercontent.com/a-/AOh14GiiqTXyn65SJr6pfMEi4hSmRrHnjWu8sOwgJS-j=s64",
      "userId": "17043303273740411164"
     },
     "user_tz": 180
    },
    "id": "3MJ16dH9qEwS"
   },
   "outputs": [],
   "source": [
    "data_train = all_data.iloc[: ochenta_porciento]\n",
    "\n",
    "data_validation = all_data.iloc[ochenta_porciento:]"
   ]
  },
  {
   "cell_type": "code",
   "execution_count": null,
   "metadata": {
    "executionInfo": {
     "elapsed": 14,
     "status": "ok",
     "timestamp": 1638037120846,
     "user": {
      "displayName": "Luis Paredes",
      "photoUrl": "https://lh3.googleusercontent.com/a-/AOh14GiiqTXyn65SJr6pfMEi4hSmRrHnjWu8sOwgJS-j=s64",
      "userId": "17043303273740411164"
     },
     "user_tz": 180
    },
    "id": "hM1FYBo2qEtm"
   },
   "outputs": [],
   "source": [
    "label_train = labels.iloc[:ochenta_porciento]\n",
    "\n",
    "label_validation = labels.iloc[ochenta_porciento:]"
   ]
  },
  {
   "cell_type": "markdown",
   "metadata": {
    "id": "I5g3ztoBAQJN"
   },
   "source": [
    "## Limpio la data\n",
    "\n",
    "Para los features categoricos reemplazo los 'nans' por 'desconocido' y para los features numericos los reemplazo por su mean de cada columna.\n",
    "\n",
    "> Nota: Para el validation test reemplazo los nans por los means correspondientes a las columnas del trainning_set.\n",
    ">\n",
    ">  No se vuelven a calcular los means por columnas."
   ]
  },
  {
   "cell_type": "code",
   "execution_count": null,
   "metadata": {
    "executionInfo": {
     "elapsed": 721,
     "status": "ok",
     "timestamp": 1638037121556,
     "user": {
      "displayName": "Luis Paredes",
      "photoUrl": "https://lh3.googleusercontent.com/a-/AOh14GiiqTXyn65SJr6pfMEi4hSmRrHnjWu8sOwgJS-j=s64",
      "userId": "17043303273740411164"
     },
     "user_tz": 180
    },
    "id": "JFo3GTMKRL7v"
   },
   "outputs": [],
   "source": [
    "# Busco los promedios de cada columna numerica para el trainning_set\n",
    "\n",
    "mean_values={}\n",
    "\n",
    "for i in data_train.columns:\n",
    "  if (str(data_train[i].dtype) != 'object'):\n",
    "    mean_values[i] = data_train[i].mean()"
   ]
  },
  {
   "cell_type": "code",
   "execution_count": null,
   "metadata": {
    "executionInfo": {
     "elapsed": 16,
     "status": "ok",
     "timestamp": 1638037121557,
     "user": {
      "displayName": "Luis Paredes",
      "photoUrl": "https://lh3.googleusercontent.com/a-/AOh14GiiqTXyn65SJr6pfMEi4hSmRrHnjWu8sOwgJS-j=s64",
      "userId": "17043303273740411164"
     },
     "user_tz": 180
    },
    "id": "4RCMz9G86A4Q"
   },
   "outputs": [],
   "source": [
    "# Limpio la data\n",
    "\n",
    "def limpiar_dataset(dataset, mean_values):\n",
    "  \n",
    "  for i in dataset.columns:\n",
    "\n",
    "    if (str(dataset[i].dtype) != 'object'):\n",
    "      dataset[i].fillna(mean_values[i], inplace=True)\n",
    "    \n",
    "    else:\n",
    "      dataset[i].fillna('desconocido',inplace=True)"
   ]
  },
  {
   "cell_type": "code",
   "execution_count": null,
   "metadata": {
    "colab": {
     "base_uri": "https://localhost:8080/",
     "height": 0
    },
    "executionInfo": {
     "elapsed": 3017,
     "status": "ok",
     "timestamp": 1638037124563,
     "user": {
      "displayName": "Luis Paredes",
      "photoUrl": "https://lh3.googleusercontent.com/a-/AOh14GiiqTXyn65SJr6pfMEi4hSmRrHnjWu8sOwgJS-j=s64",
      "userId": "17043303273740411164"
     },
     "user_tz": 180
    },
    "id": "fE5gmftNS5rD",
    "outputId": "e8fb967b-7b06-4f8b-b7a8-28ec2b5a039b"
   },
   "outputs": [],
   "source": [
    "limpiar_dataset(data_train, mean_values)\n",
    "display(data_train)"
   ]
  },
  {
   "cell_type": "code",
   "execution_count": null,
   "metadata": {
    "colab": {
     "base_uri": "https://localhost:8080/",
     "height": 0
    },
    "executionInfo": {
     "elapsed": 475,
     "status": "ok",
     "timestamp": 1638037125034,
     "user": {
      "displayName": "Luis Paredes",
      "photoUrl": "https://lh3.googleusercontent.com/a-/AOh14GiiqTXyn65SJr6pfMEi4hSmRrHnjWu8sOwgJS-j=s64",
      "userId": "17043303273740411164"
     },
     "user_tz": 180
    },
    "id": "qoAW_fm7T16h",
    "outputId": "7a1c04c5-104f-4b82-d524-5f317bbd19aa"
   },
   "outputs": [],
   "source": [
    "data_validation"
   ]
  },
  {
   "cell_type": "code",
   "execution_count": null,
   "metadata": {
    "colab": {
     "base_uri": "https://localhost:8080/",
     "height": 0
    },
    "executionInfo": {
     "elapsed": 1131,
     "status": "ok",
     "timestamp": 1638037126160,
     "user": {
      "displayName": "Luis Paredes",
      "photoUrl": "https://lh3.googleusercontent.com/a-/AOh14GiiqTXyn65SJr6pfMEi4hSmRrHnjWu8sOwgJS-j=s64",
      "userId": "17043303273740411164"
     },
     "user_tz": 180
    },
    "id": "NfhlwOXJS9Lm",
    "outputId": "73fcf790-9151-41bf-9059-fa3297031313",
    "scrolled": false
   },
   "outputs": [],
   "source": [
    "limpiar_dataset(data_validation, mean_values)\n",
    "display(data_validation)"
   ]
  },
  {
   "cell_type": "code",
   "execution_count": null,
   "metadata": {},
   "outputs": [],
   "source": [
    "data_validation.reset_index(inplace=True, drop=True)\n",
    "display(data_validation)"
   ]
  },
  {
   "cell_type": "markdown",
   "metadata": {},
   "source": [
    "## Limpio algunos features que tienen demasidos valores unicos\n",
    "\n",
    "Categorizamos algunos features que tienen demasiados valores unicos para pòder trabajar mejor en el modelo.\n",
    "\n",
    "Utilizo CountVectorizer para DeviceInfo, id_31 y id_33 con un maximo de 10 palabras mas comunes"
   ]
  },
  {
   "cell_type": "code",
   "execution_count": null,
   "metadata": {},
   "outputs": [],
   "source": [
    "def obtener_columnas_categoricas(data_set):\n",
    "\n",
    "  columnas_categoricas = []\n",
    "\n",
    "  for col in data_set.columns:\n",
    "        if (str(data_set[col].dtype) == 'object'):\n",
    "            columnas_categoricas.append(col)\n",
    "\n",
    "  return columnas_categoricas"
   ]
  },
  {
   "cell_type": "markdown",
   "metadata": {},
   "source": [
    "### ID 31"
   ]
  },
  {
   "cell_type": "code",
   "execution_count": null,
   "metadata": {},
   "outputs": [],
   "source": [
    "from sklearn.feature_extraction.text import CountVectorizer\n",
    "\n",
    "coun_vect_id31 = CountVectorizer(min_df=10, max_features=15, lowercase=True,  stop_words= ['desconocido','11'])\n",
    "\n",
    "count_vect_id31_entrenado = coun_vect_id31.fit(data_train.id_31)"
   ]
  },
  {
   "cell_type": "code",
   "execution_count": null,
   "metadata": {},
   "outputs": [],
   "source": [
    "count_vec_id_31_data_train =   pd.DataFrame(count_vect_id31_entrenado.transform(data_train.id_31).toarray(), columns = coun_vect_id31.get_feature_names())\n",
    "\n",
    "data_train.drop(columns='id_31',inplace=True)\n",
    "data_train = pd.concat([data_train, count_vec_id_31_data_train],axis=1)\n",
    "\n",
    "display(data_train)"
   ]
  },
  {
   "cell_type": "code",
   "execution_count": null,
   "metadata": {},
   "outputs": [],
   "source": [
    "count_vec_id_31_data_validation =   pd.DataFrame(count_vect_id31_entrenado.transform(data_validation.id_31).toarray(), columns = coun_vect_id31.get_feature_names())\n",
    "\n",
    "data_validation.drop(columns='id_31',inplace=True)\n",
    "data_validation = pd.concat([data_validation, count_vec_id_31_data_validation],axis=1)\n",
    "\n",
    "display(data_validation)"
   ]
  },
  {
   "cell_type": "markdown",
   "metadata": {},
   "source": [
    "### ID 33"
   ]
  },
  {
   "cell_type": "code",
   "execution_count": null,
   "metadata": {},
   "outputs": [],
   "source": [
    "coun_vect_id33 = CountVectorizer(min_df=10, max_features=15,lowercase=True,  stop_words= ['desconocido','11'])\n",
    "\n",
    "count_vect_id33_entrenado = coun_vect_id33.fit(data_train.id_33)"
   ]
  },
  {
   "cell_type": "code",
   "execution_count": null,
   "metadata": {},
   "outputs": [],
   "source": [
    "count_vec_id_33_data_train =  pd.DataFrame(count_vect_id33_entrenado.transform(data_train.id_33).toarray(), columns = coun_vect_id33.get_feature_names())\n",
    "\n",
    "data_train.drop(columns='id_33',inplace=True)\n",
    "data_train = pd.concat([data_train, count_vec_id_33_data_train],axis=1)\n",
    "\n",
    "display(data_train)"
   ]
  },
  {
   "cell_type": "code",
   "execution_count": null,
   "metadata": {},
   "outputs": [],
   "source": [
    "count_vec_id_33_data_validation =   pd.DataFrame(count_vect_id33_entrenado.transform(data_validation.id_33).toarray(), columns = coun_vect_id33.get_feature_names())\n",
    "\n",
    "data_validation.drop(columns='id_33',inplace=True)\n",
    "data_validation = pd.concat([data_validation, count_vec_id_33_data_validation],axis=1)\n",
    "\n",
    "display(data_validation)"
   ]
  },
  {
   "cell_type": "markdown",
   "metadata": {},
   "source": [
    "### DeviceInfo"
   ]
  },
  {
   "cell_type": "code",
   "execution_count": null,
   "metadata": {},
   "outputs": [],
   "source": [
    "coun_vect_di = CountVectorizer(min_df=10, max_features=15, lowercase=True, stop_words= ['desconocido','11'])\n",
    "count_vect_deviceInfo_entrenado = coun_vect_di.fit(data_train.DeviceInfo)"
   ]
  },
  {
   "cell_type": "code",
   "execution_count": null,
   "metadata": {},
   "outputs": [],
   "source": [
    "count_vec_id_dI_data_train =   pd.DataFrame(count_vect_deviceInfo_entrenado.transform(data_train.DeviceInfo).toarray(), columns = coun_vect_di.get_feature_names())\n",
    "\n",
    "data_train.drop(columns='DeviceInfo',inplace=True)\n",
    "data_train = pd.concat([data_train, count_vec_id_dI_data_train],axis=1)\n",
    "\n",
    "display(data_train)"
   ]
  },
  {
   "cell_type": "code",
   "execution_count": null,
   "metadata": {},
   "outputs": [],
   "source": [
    "count_vec_id_dI_data_validation =   pd.DataFrame(count_vect_deviceInfo_entrenado.transform(data_validation.DeviceInfo).toarray(), columns = coun_vect_di.get_feature_names())\n",
    "\n",
    "data_validation.drop(columns='DeviceInfo',inplace=True)\n",
    "data_validation = pd.concat([data_validation, count_vec_id_dI_data_validation],axis=1)\n",
    "\n",
    "display(data_validation)"
   ]
  },
  {
   "cell_type": "markdown",
   "metadata": {},
   "source": [
    "### Verifico los nuevos features categoricos"
   ]
  },
  {
   "cell_type": "code",
   "execution_count": null,
   "metadata": {},
   "outputs": [],
   "source": [
    "data_validation[obtener_columnas_categoricas(data_validation)].nunique()"
   ]
  },
  {
   "cell_type": "code",
   "execution_count": null,
   "metadata": {},
   "outputs": [],
   "source": [
    "data_train[obtener_columnas_categoricas(data_train)].nunique()"
   ]
  },
  {
   "cell_type": "markdown",
   "metadata": {
    "id": "8JkI3C-c9K3i"
   },
   "source": [
    "## Aplico Mean Encoding a data_train y luego a validation_train\n",
    "\n",
    "Guardo los encodings para los features categoricos en un diccionario para luego asignarselos al set de test."
   ]
  },
  {
   "cell_type": "code",
   "execution_count": null,
   "metadata": {},
   "outputs": [],
   "source": [
    "mean_encoding_columns = dict()\n",
    "\n",
    "for col in data_train.columns:\n",
    "    \n",
    "    if(str(data_train[col].dtype) == 'object'):\n",
    "       mean_encoding_columns[col]= data_train.groupby(col).isFraud.mean().to_dict()"
   ]
  },
  {
   "cell_type": "code",
   "execution_count": null,
   "metadata": {},
   "outputs": [],
   "source": [
    "mean_encoding_columns"
   ]
  },
  {
   "cell_type": "code",
   "execution_count": null,
   "metadata": {},
   "outputs": [],
   "source": [
    "def aplicar_mean_encoding(data_set, mean_encoding):\n",
    "    \n",
    "    for col in data_set.columns:\n",
    "        if (str(data_set[col].dtype) == 'object'):\n",
    "            data_set[col] = data_set[col].map(mean_encoding[col])"
   ]
  },
  {
   "cell_type": "code",
   "execution_count": null,
   "metadata": {
    "colab": {
     "base_uri": "https://localhost:8080/",
     "height": 0
    },
    "executionInfo": {
     "elapsed": 12608,
     "status": "ok",
     "timestamp": 1638037141005,
     "user": {
      "displayName": "Luis Paredes",
      "photoUrl": "https://lh3.googleusercontent.com/a-/AOh14GiiqTXyn65SJr6pfMEi4hSmRrHnjWu8sOwgJS-j=s64",
      "userId": "17043303273740411164"
     },
     "user_tz": 180
    },
    "id": "mlFF6vA9LPk0",
    "outputId": "ebd9b826-fd21-48ed-94a7-e05a0665a68a"
   },
   "outputs": [],
   "source": [
    "# Aplico el encoder al data_train\n",
    "aplicar_mean_encoding(data_train, mean_encoding_columns)\n",
    "display(data_train)"
   ]
  },
  {
   "cell_type": "code",
   "execution_count": null,
   "metadata": {
    "colab": {
     "base_uri": "https://localhost:8080/",
     "height": 0
    },
    "executionInfo": {
     "elapsed": 3560,
     "status": "ok",
     "timestamp": 1638037144553,
     "user": {
      "displayName": "Luis Paredes",
      "photoUrl": "https://lh3.googleusercontent.com/a-/AOh14GiiqTXyn65SJr6pfMEi4hSmRrHnjWu8sOwgJS-j=s64",
      "userId": "17043303273740411164"
     },
     "user_tz": 180
    },
    "id": "bgktxIufLPk1",
    "outputId": "10b55de7-29f3-41ce-b175-1fef3420c289"
   },
   "outputs": [],
   "source": [
    "# Aplico el encoder al data_validation\n",
    "aplicar_mean_encoding(data_validation, mean_encoding_columns)\n",
    "display(data_validation)"
   ]
  },
  {
   "cell_type": "markdown",
   "metadata": {
    "id": "eVjUK9H7CqTf"
   },
   "source": [
    "## Aplico Scalling a la data para mejorar el modelo"
   ]
  },
  {
   "cell_type": "code",
   "execution_count": null,
   "metadata": {
    "executionInfo": {
     "elapsed": 2398,
     "status": "ok",
     "timestamp": 1638037146939,
     "user": {
      "displayName": "Luis Paredes",
      "photoUrl": "https://lh3.googleusercontent.com/a-/AOh14GiiqTXyn65SJr6pfMEi4hSmRrHnjWu8sOwgJS-j=s64",
      "userId": "17043303273740411164"
     },
     "user_tz": 180
    },
    "id": "78999bcf"
   },
   "outputs": [],
   "source": [
    "data_train = data_train.drop(columns=['isFraud'])\n",
    "\n",
    "feature_names = data_train.columns # Los guardo para el punto extra"
   ]
  },
  {
   "cell_type": "code",
   "execution_count": null,
   "metadata": {
    "executionInfo": {
     "elapsed": 428,
     "status": "ok",
     "timestamp": 1638037147360,
     "user": {
      "displayName": "Luis Paredes",
      "photoUrl": "https://lh3.googleusercontent.com/a-/AOh14GiiqTXyn65SJr6pfMEi4hSmRrHnjWu8sOwgJS-j=s64",
      "userId": "17043303273740411164"
     },
     "user_tz": 180
    },
    "id": "34189eae"
   },
   "outputs": [],
   "source": [
    "data_validation = data_validation.drop(columns=['isFraud'])"
   ]
  },
  {
   "cell_type": "code",
   "execution_count": null,
   "metadata": {
    "executionInfo": {
     "elapsed": 7169,
     "status": "ok",
     "timestamp": 1638037154522,
     "user": {
      "displayName": "Luis Paredes",
      "photoUrl": "https://lh3.googleusercontent.com/a-/AOh14GiiqTXyn65SJr6pfMEi4hSmRrHnjWu8sOwgJS-j=s64",
      "userId": "17043303273740411164"
     },
     "user_tz": 180
    },
    "id": "XppbH_R4LPk3"
   },
   "outputs": [],
   "source": [
    "from sklearn import preprocessing\n",
    "\n",
    "scaler = preprocessing.StandardScaler().fit(data_train)\n",
    "\n",
    "data_train = scaler.fit_transform(data_train)\n",
    "data_validation = scaler.transform(data_validation)"
   ]
  },
  {
   "cell_type": "code",
   "execution_count": null,
   "metadata": {
    "colab": {
     "base_uri": "https://localhost:8080/"
    },
    "executionInfo": {
     "elapsed": 25,
     "status": "ok",
     "timestamp": 1638037154524,
     "user": {
      "displayName": "Luis Paredes",
      "photoUrl": "https://lh3.googleusercontent.com/a-/AOh14GiiqTXyn65SJr6pfMEi4hSmRrHnjWu8sOwgJS-j=s64",
      "userId": "17043303273740411164"
     },
     "user_tz": 180
    },
    "id": "-dsvz7jvLPk3",
    "outputId": "eac738b1-ae70-4fde-afb1-f96e1152f6f4"
   },
   "outputs": [],
   "source": [
    "data_train"
   ]
  },
  {
   "cell_type": "markdown",
   "metadata": {
    "id": "it92KrnEETDW"
   },
   "source": [
    "# Creo el Modelo de Random Forest y lo entreno\n",
    "\n",
    "Teniendo la data ordenada, creo el modelo de Random Forest y lo entreno con `data_train` y `label_train`"
   ]
  },
  {
   "cell_type": "code",
   "execution_count": null,
   "metadata": {
    "executionInfo": {
     "elapsed": 16,
     "status": "ok",
     "timestamp": 1638037154526,
     "user": {
      "displayName": "Luis Paredes",
      "photoUrl": "https://lh3.googleusercontent.com/a-/AOh14GiiqTXyn65SJr6pfMEi4hSmRrHnjWu8sOwgJS-j=s64",
      "userId": "17043303273740411164"
     },
     "user_tz": 180
    },
    "id": "eafb3bdf"
   },
   "outputs": [],
   "source": [
    "model = xgb.XGBRegressor(objective ='reg:squarederror', \n",
    "                colsample_bytree = 0.3, learning_rate = 0.1,\n",
    "                max_depth = 5, alpha = 10, n_estimators = 10)"
   ]
  },
  {
   "cell_type": "code",
   "execution_count": null,
   "metadata": {
    "id": "ec1a6e3e"
   },
   "outputs": [],
   "source": [
    "model.fit(data_train, label_train)"
   ]
  },
  {
   "cell_type": "markdown",
   "metadata": {
    "id": "i2ZRx4Erg8H7"
   },
   "source": [
    "# Metricas"
   ]
  },
  {
   "cell_type": "markdown",
   "metadata": {
    "id": "KD_mtBmzEmNL"
   },
   "source": [
    "## Aucroc Score"
   ]
  },
  {
   "cell_type": "code",
   "execution_count": null,
   "metadata": {
    "id": "JNuGGtg4El7M"
   },
   "outputs": [],
   "source": [
    "roc_auc_score(label_train, model.predict(data_train))"
   ]
  },
  {
   "cell_type": "code",
   "execution_count": null,
   "metadata": {
    "id": "2KUMoxMhHLym"
   },
   "outputs": [],
   "source": [
    "roc_auc_score(label_validation, model.predict(data_validation))"
   ]
  },
  {
   "cell_type": "markdown",
   "metadata": {
    "id": "lU1ZOFnKBArA"
   },
   "source": [
    "# Busqueda de Hiper-parametros\n",
    "\n",
    "Busco hiper-parametros para `XGBoost` utilizando `GridSearchCV`"
   ]
  },
  {
   "cell_type": "code",
   "execution_count": null,
   "metadata": {
    "id": "FVQvWT7VFwf0"
   },
   "outputs": [],
   "source": [
    "from scipy.stats import uniform\n",
    "from sklearn.model_selection import GridSearchCV"
   ]
  },
  {
   "cell_type": "markdown",
   "metadata": {
    "id": "pMb43ISeg7qA"
   },
   "source": [
    "[Hiper parametros de XGBooster](https://towardsdatascience.com/a-guide-to-xgboost-hyperparameters-87980c7f44a9)"
   ]
  },
  {
   "cell_type": "code",
   "execution_count": null,
   "metadata": {
    "id": "YZ8J2TN8Bhkf"
   },
   "outputs": [],
   "source": [
    "hiper_parametros = dict(objective =['reg:squarederror'],\n",
    "                        colsample_bytree = [0.3], \n",
    "                        learning_rate = [0.1],\n",
    "                        alpha = [10],\n",
    "                        max_depth = [4,8,16],\n",
    "                        n_estimators = [4,8,16,32] )"
   ]
  },
  {
   "cell_type": "code",
   "execution_count": null,
   "metadata": {
    "id": "LW4J41MjBhcQ"
   },
   "outputs": [],
   "source": [
    "gridSearch = GridSearchCV(model, hiper_parametros, cv=5, n_jobs=-1, scoring='roc_auc')"
   ]
  },
  {
   "cell_type": "code",
   "execution_count": null,
   "metadata": {
    "colab": {
     "base_uri": "https://localhost:8080/"
    },
    "executionInfo": {
     "elapsed": 595341,
     "status": "ok",
     "timestamp": 1638030097668,
     "user": {
      "displayName": "Luis Paredes",
      "photoUrl": "https://lh3.googleusercontent.com/a-/AOh14GiiqTXyn65SJr6pfMEi4hSmRrHnjWu8sOwgJS-j=s64",
      "userId": "17043303273740411164"
     },
     "user_tz": 180
    },
    "id": "91IL5lMvDQF9",
    "outputId": "e436beec-6b4c-43e0-c5c9-b8cb0ed5b816"
   },
   "outputs": [],
   "source": [
    "search = gridSearch.fit(data_train, label_train)"
   ]
  },
  {
   "cell_type": "markdown",
   "metadata": {
    "id": "58a59liGLPk9"
   },
   "source": [
    "## Busco los mejores coeficientes"
   ]
  },
  {
   "cell_type": "code",
   "execution_count": null,
   "metadata": {
    "colab": {
     "base_uri": "https://localhost:8080/"
    },
    "executionInfo": {
     "elapsed": 30,
     "status": "ok",
     "timestamp": 1638030097669,
     "user": {
      "displayName": "Luis Paredes",
      "photoUrl": "https://lh3.googleusercontent.com/a-/AOh14GiiqTXyn65SJr6pfMEi4hSmRrHnjWu8sOwgJS-j=s64",
      "userId": "17043303273740411164"
     },
     "user_tz": 180
    },
    "id": "G8SnW-eNLPk9",
    "outputId": "ba96882d-8428-45ab-8b7a-72d04ce095a4"
   },
   "outputs": [],
   "source": [
    "search.best_params_"
   ]
  },
  {
   "cell_type": "code",
   "execution_count": null,
   "metadata": {
    "colab": {
     "base_uri": "https://localhost:8080/"
    },
    "executionInfo": {
     "elapsed": 16,
     "status": "ok",
     "timestamp": 1638030097670,
     "user": {
      "displayName": "Luis Paredes",
      "photoUrl": "https://lh3.googleusercontent.com/a-/AOh14GiiqTXyn65SJr6pfMEi4hSmRrHnjWu8sOwgJS-j=s64",
      "userId": "17043303273740411164"
     },
     "user_tz": 180
    },
    "id": "MHen2UDesNk6",
    "outputId": "3ec611b4-a575-4e0b-a674-61e4417556c7"
   },
   "outputs": [],
   "source": [
    "search.best_estimator_"
   ]
  },
  {
   "cell_type": "markdown",
   "metadata": {
    "id": "y6ctRuKHEaac"
   },
   "source": [
    "# XGBoost con los mejores hiper-parametros obtenidos \n",
    "\n",
    "Usando XGBoost obtengo como Hiper-Parametros obtenidos\n",
    "\n",
    "\n",
    "\n",
    "| Hiper-Parametro   |  Mejor Valor |  \n",
    "|:---:|:---:|\n",
    "|  alpha | 10  |  \n",
    "|  colsample_bytree |  0.3  |\n",
    "|  learning_rate |  0.1  |\n",
    "|  max_depth |  16|\n",
    "|  n_estimators |  32 |\n",
    "|  objective |  reg:squarederror |\n",
    "\n",
    "> Nota: El gridSearch hecho no es completamente representativo ya que XGBoost es muy pesado como para correr muchas pruebas, por eso los hiperparametros no cambian demasiado con respecto a los originalmente tomados.\n",
    "\n",
    "\n",
    "Vuelvo a plantear XGBoost para ver como mejora el modelo."
   ]
  },
  {
   "cell_type": "code",
   "execution_count": null,
   "metadata": {
    "colab": {
     "base_uri": "https://localhost:8080/"
    },
    "executionInfo": {
     "elapsed": 40038,
     "status": "ok",
     "timestamp": 1638030137696,
     "user": {
      "displayName": "Luis Paredes",
      "photoUrl": "https://lh3.googleusercontent.com/a-/AOh14GiiqTXyn65SJr6pfMEi4hSmRrHnjWu8sOwgJS-j=s64",
      "userId": "17043303273740411164"
     },
     "user_tz": 180
    },
    "id": "Q-PJoak5EYIY",
    "outputId": "949d2d69-879c-45ba-f1e5-bdc972fce107"
   },
   "outputs": [],
   "source": [
    "model = search.best_estimator_\n",
    "\n",
    "model.fit(data_train, label_train)"
   ]
  },
  {
   "cell_type": "markdown",
   "metadata": {
    "id": "3A-R-ubyFwhF"
   },
   "source": [
    "## Guardo el modelo final"
   ]
  },
  {
   "cell_type": "code",
   "execution_count": null,
   "metadata": {
    "colab": {
     "base_uri": "https://localhost:8080/"
    },
    "executionInfo": {
     "elapsed": 20,
     "status": "ok",
     "timestamp": 1638030137698,
     "user": {
      "displayName": "Luis Paredes",
      "photoUrl": "https://lh3.googleusercontent.com/a-/AOh14GiiqTXyn65SJr6pfMEi4hSmRrHnjWu8sOwgJS-j=s64",
      "userId": "17043303273740411164"
     },
     "user_tz": 180
    },
    "id": "htBh8bfzFvk9",
    "outputId": "1cda58c6-fcf0-4881-d124-54008edced55"
   },
   "outputs": [],
   "source": [
    "import joblib\n",
    "\n",
    "joblib.dump(model, \"random_forest_model.pkl\")"
   ]
  },
  {
   "cell_type": "code",
   "execution_count": null,
   "metadata": {
    "colab": {
     "base_uri": "https://localhost:8080/"
    },
    "executionInfo": {
     "elapsed": 725,
     "status": "ok",
     "timestamp": 1638030138415,
     "user": {
      "displayName": "Luis Paredes",
      "photoUrl": "https://lh3.googleusercontent.com/a-/AOh14GiiqTXyn65SJr6pfMEi4hSmRrHnjWu8sOwgJS-j=s64",
      "userId": "17043303273740411164"
     },
     "user_tz": 180
    },
    "id": "9TZ0GP6uLPlB",
    "outputId": "70925784-5e5d-49a8-c09b-fd5bb0925301"
   },
   "outputs": [],
   "source": [
    "roc_auc_score(label_train, model.predict(data_train))"
   ]
  },
  {
   "cell_type": "code",
   "execution_count": null,
   "metadata": {
    "colab": {
     "base_uri": "https://localhost:8080/"
    },
    "executionInfo": {
     "elapsed": 628,
     "status": "ok",
     "timestamp": 1638030139035,
     "user": {
      "displayName": "Luis Paredes",
      "photoUrl": "https://lh3.googleusercontent.com/a-/AOh14GiiqTXyn65SJr6pfMEi4hSmRrHnjWu8sOwgJS-j=s64",
      "userId": "17043303273740411164"
     },
     "user_tz": 180
    },
    "id": "1bz3z6CfLPlC",
    "outputId": "12d4d6ba-8083-443f-d1e9-47a131a2ebdd"
   },
   "outputs": [],
   "source": [
    "roc_auc_score(label_validation, model.predict(data_validation))"
   ]
  },
  {
   "cell_type": "markdown",
   "metadata": {},
   "source": [
    "# Score en la competencia\n",
    "\n",
    "Al comparar con RandomForest, se observa que XGBoost tiene una auc_roc score con el validation set de `0.85197`, mientras que RandomForest nos dio un score de `0.847`. \n",
    "\n",
    "Por lo tanto determino el valor que tiene en la competencia, por tratarse del mejor modelo entre los dos."
   ]
  },
  {
   "cell_type": "markdown",
   "metadata": {},
   "source": [
    "## Cargo los archivos de testing"
   ]
  },
  {
   "cell_type": "code",
   "execution_count": null,
   "metadata": {},
   "outputs": [],
   "source": [
    "test_identity = pd.read_csv('./ieee-fraud-detection/test_identity.csv')\n",
    "test_transaction = pd.read_csv('./ieee-fraud-detection/test_transaction.csv')"
   ]
  },
  {
   "cell_type": "code",
   "execution_count": null,
   "metadata": {},
   "outputs": [],
   "source": [
    "test_identity.columns = test_identity.columns.str.replace('id-','id_')"
   ]
  },
  {
   "cell_type": "code",
   "execution_count": null,
   "metadata": {},
   "outputs": [],
   "source": [
    "test_data = test_transaction.merge(test_identity, on='TransactionID', how='outer')\n",
    "\n",
    "del(test_identity)\n",
    "del(test_transaction)\n",
    "\n",
    "gc.collect()"
   ]
  },
  {
   "cell_type": "code",
   "execution_count": null,
   "metadata": {},
   "outputs": [],
   "source": [
    "# Verifico que este ordenada\n",
    "list(test_data.TransactionDT) == sorted(test_data.TransactionDT, reverse=False)"
   ]
  },
  {
   "cell_type": "markdown",
   "metadata": {},
   "source": [
    "## Tomo las features de interes"
   ]
  },
  {
   "cell_type": "code",
   "execution_count": null,
   "metadata": {},
   "outputs": [],
   "source": [
    "transactionID = test_data.TransactionID\n",
    "top80features.remove('isFraud')\n",
    "test_data = test_data[top80features]"
   ]
  },
  {
   "cell_type": "markdown",
   "metadata": {},
   "source": [
    "## Limpio la data"
   ]
  },
  {
   "cell_type": "code",
   "execution_count": null,
   "metadata": {},
   "outputs": [],
   "source": [
    "limpiar_dataset(test_data, mean_values)"
   ]
  },
  {
   "cell_type": "markdown",
   "metadata": {},
   "source": [
    "## Aplico vectorizer"
   ]
  },
  {
   "cell_type": "code",
   "execution_count": null,
   "metadata": {},
   "outputs": [],
   "source": [
    "count_vec_id_31_test_set =   pd.DataFrame(count_vect_id31_entrenado.transform(test_data.id_31).toarray(), columns = coun_vect_id31.get_feature_names())\n",
    "count_vec_id_33_test_set =   pd.DataFrame(count_vect_id33_entrenado.transform(test_data.id_33).toarray(), columns = coun_vect_id33.get_feature_names())\n",
    "count_vec_id_dI_test_set =   pd.DataFrame(count_vect_deviceInfo_entrenado.transform(test_data.DeviceInfo).toarray(), columns = coun_vect_di.get_feature_names())"
   ]
  },
  {
   "cell_type": "code",
   "execution_count": null,
   "metadata": {},
   "outputs": [],
   "source": [
    "test_data.drop(columns=['id_31','id_33','DeviceInfo'],inplace=True)\n",
    "\n",
    "test_data = pd.concat([test_data, count_vec_id_31_test_set],axis=1)\n",
    "test_data = pd.concat([test_data, count_vec_id_33_test_set],axis=1)\n",
    "test_data = pd.concat([test_data, count_vec_id_dI_test_set],axis=1)"
   ]
  },
  {
   "cell_type": "markdown",
   "metadata": {},
   "source": [
    "## Aplico Mean Encoding"
   ]
  },
  {
   "cell_type": "code",
   "execution_count": null,
   "metadata": {},
   "outputs": [],
   "source": [
    "# Aplico el encoder al data_train\n",
    "aplicar_mean_encoding(test_data, mean_encoding_columns)\n",
    "display(data_train)"
   ]
  },
  {
   "cell_type": "markdown",
   "metadata": {},
   "source": [
    "## Aplico scaler"
   ]
  },
  {
   "cell_type": "code",
   "execution_count": null,
   "metadata": {},
   "outputs": [],
   "source": [
    "test_data = scaler.transform(test_data)"
   ]
  },
  {
   "cell_type": "markdown",
   "metadata": {},
   "source": [
    "## Hago las predicciones"
   ]
  },
  {
   "cell_type": "code",
   "execution_count": null,
   "metadata": {},
   "outputs": [],
   "source": [
    "predictions = model.predict(test_data)"
   ]
  },
  {
   "cell_type": "code",
   "execution_count": null,
   "metadata": {},
   "outputs": [],
   "source": [
    "sample_submition = pd.DataFrame()\n",
    "sample_submition['TransactionID'] = list(transactionID)\n",
    "sample_submition['isFraud'] = predictions\n",
    "\n",
    "sample_submition.set_index('TransactionID', inplace=True)\n",
    "display(sample_submition)"
   ]
  },
  {
   "cell_type": "code",
   "execution_count": null,
   "metadata": {},
   "outputs": [],
   "source": [
    "sample_submition.to_csv('sample_submition_XGB.csv')"
   ]
  },
  {
   "cell_type": "markdown",
   "metadata": {},
   "source": [
    "## Conclusion\n",
    "\n",
    "El auc_score obtenido de la competencia con el modelo de XGBoost es de `0.880579`. Es una mejora del modelo de Linear Regression el cual dio 0.857682"
   ]
  },
  {
   "cell_type": "markdown",
   "metadata": {},
   "source": [
    "# Puntos Extra\n",
    "\n",
    "Graficar la importancia de features para algun modelo de la parte III. ¿Que tanto se parece a los features importantes de la parte II?"
   ]
  },
  {
   "cell_type": "code",
   "execution_count": null,
   "metadata": {},
   "outputs": [],
   "source": [
    "from xgboost import plot_importance\n",
    "from matplotlib import pyplot\n",
    "\n",
    "plot_importance(model, max_num_features=10, title='Top 10 Features')\n",
    "pyplot.show()"
   ]
  },
  {
   "cell_type": "code",
   "execution_count": null,
   "metadata": {},
   "outputs": [],
   "source": [
    "feature_names"
   ]
  },
  {
   "cell_type": "code",
   "execution_count": null,
   "metadata": {},
   "outputs": [],
   "source": [
    "importancia_features = [(feature, coeff) for feature, coeff in zip(feature_names,model.feature_importances_)]\n",
    "print(importancia_features)"
   ]
  },
  {
   "cell_type": "code",
   "execution_count": null,
   "metadata": {},
   "outputs": [],
   "source": [
    "top10 = sorted(importancia_features, key = lambda x: -abs(x[1]) )[:10]\n",
    "print(top10)"
   ]
  },
  {
   "cell_type": "code",
   "execution_count": null,
   "metadata": {},
   "outputs": [],
   "source": [
    "feature_names = [x[0] for x in top10]\n",
    "feature_weights = [abs(x[1]) for x in top10]\n",
    "\n",
    "fig = plt.figure()\n",
    "ax = fig.add_axes([0,0,1,1])\n",
    "ax.bar(feature_names,feature_weights)\n",
    "ax.set_title(\"Top 10 Features mas importantes segun XGBoost\")\n",
    "plt.xticks(rotation=30, ha='right')\n",
    "plt.show()"
   ]
  },
  {
   "cell_type": "markdown",
   "metadata": {},
   "source": [
    "## Conclusion\n",
    "\n",
    "Segun LogisticRegression, los 10 features mas importantes son\n",
    "\n",
    "| Feature | Weight|\n",
    "| ---|---|\n",
    "|('C14'|-1.1169994326139894)|\n",
    "|('C2'| 0.940987827815535)|\n",
    "| ('C11'| 0.748685001072886)|\n",
    " |('C13'| -0.6306327539310376)|\n",
    "| ('C7'| -0.6034318025054934)|\n",
    "| ('C3'| -0.6009501739533933)|\n",
    "| ('V192'| 0.5754602374874863)|\n",
    "| ('V222'| 0.4699256928563515)|\n",
    "| ('V179'| 0.4553329097486659)|\n",
    "| ('DeviceType'| 0.4431715326946056)|\n",
    "\n",
    "Y segun XGBooster\n",
    "\n",
    "\n",
    "| Feature | Weight|\n",
    "| ---|---|\n",
    "|('V257'| 0.17444326)|\n",
    "|('V246'| 0.08324755)|\n",
    "|('V189'| 0.060298882|\n",
    "|('V200'| 0.044061814|\n",
    "|('C7'| 0.029080976|\n",
    "|('id_35'| 0.027788244| \n",
    "|('mra58k'| 0.027283499)| \n",
    "|('V188' |0.022855962| \n",
    "|('V149' | 0.021715455|\n",
    "|('C11' | 0.02164322)|\n",
    "\n",
    "Observamos que en ambas listas estan predominantes features de la categoria C y V. Posiblemente estas tengan una relacion importante por repetirse en ambos modelos."
   ]
  },
  {
   "cell_type": "code",
   "execution_count": null,
   "metadata": {},
   "outputs": [],
   "source": []
  }
 ],
 "metadata": {
  "colab": {
   "collapsed_sections": [
    "7StWs4iqmuV8"
   ],
   "name": "Random_Forest_Oficial.ipynb",
   "provenance": [
    {
     "file_id": "1arvpr43p9TAcRlZ4Akz6LpZy6bd-Y9LG",
     "timestamp": 1638033914922
    }
   ]
  },
  "hide_input": false,
  "kernelspec": {
   "display_name": "Python 3",
   "language": "python",
   "name": "python3"
  },
  "language_info": {
   "codemirror_mode": {
    "name": "ipython",
    "version": 3
   },
   "file_extension": ".py",
   "mimetype": "text/x-python",
   "name": "python",
   "nbconvert_exporter": "python",
   "pygments_lexer": "ipython3",
   "version": "3.7.4"
  },
  "toc": {
   "base_numbering": 1,
   "nav_menu": {},
   "number_sections": true,
   "sideBar": true,
   "skip_h1_title": false,
   "title_cell": "Table of Contents",
   "title_sidebar": "Contents",
   "toc_cell": false,
   "toc_position": {
    "height": "calc(100% - 180px)",
    "left": "10px",
    "top": "150px",
    "width": "383.984px"
   },
   "toc_section_display": true,
   "toc_window_display": false
  }
 },
 "nbformat": 4,
 "nbformat_minor": 5
}
